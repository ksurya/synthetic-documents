{
 "cells": [
  {
   "cell_type": "markdown",
   "metadata": {
    "colab_type": "text",
    "id": "YP8Fdzev-E09"
   },
   "source": [
    "# Dataset 0: images containing text\n",
    "\n",
    "Very ideal experiment to see the lower bound performance\n",
    "\n",
    "\n",
    "Version - 0:\n",
    "- Text content: SQUAD v1.1\n",
    "- Uniform size: width, height, margins, line space across the dataset\n",
    "- Uniform style: white background, black text, font size, font style\n",
    "- Tasks 0: word search, put a bounding box around a word\n",
    "    - Exact match\n",
    "    - No special characters in content\n",
    "    - Case insensitive\n",
    "    - Words are equally likely\n",
    "    - Word actually exists!\n",
    "\n",
    "\n",
    "Algorithm - 0:\n",
    "- Create words dictionary from SQUAD\n",
    "- Create an index word -> paragraphs that have this word\n",
    "- Uniformly select a word, uniformly select associated paragraph\n",
    "- Uniformly select an occurance in paragraph and annotate a bounding box\n"
   ]
  },
  {
   "cell_type": "code",
   "execution_count": 1,
   "metadata": {
    "colab": {},
    "colab_type": "code",
    "id": "0BXALLolMQvN"
   },
   "outputs": [],
   "source": [
    "DATA_DIR = \"./data\""
   ]
  },
  {
   "cell_type": "code",
   "execution_count": 3,
   "metadata": {
    "colab": {},
    "colab_type": "code",
    "id": "rxmlQZYT9fMS"
   },
   "outputs": [],
   "source": [
    "%matplotlib inline\n",
    "\n",
    "from PIL import Image\n",
    "from PIL import ImageDraw\n",
    "from PIL import ImageFont\n",
    "from matplotlib.pyplot import imshow\n",
    "from glob import glob\n",
    "from collections import defaultdict\n",
    "from tqdm.notebook import tqdm\n",
    "from concurrent.futures import ProcessPoolExecutor, ThreadPoolExecutor, as_completed\n",
    "\n",
    "import matplotlib.pyplot as plt\n",
    "import numpy as np\n",
    "import pandas as pd\n",
    "import string\n",
    "import textwrap\n",
    "import json\n",
    "import re\n",
    "import os"
   ]
  },
  {
   "cell_type": "markdown",
   "metadata": {
    "colab_type": "text",
    "id": "_wILpnhXYvXf"
   },
   "source": [
    "# Document to Image"
   ]
  },
  {
   "cell_type": "code",
   "execution_count": 6,
   "metadata": {
    "colab": {},
    "colab_type": "code",
    "id": "NmBU7BwzNAwQ"
   },
   "outputs": [],
   "source": [
    "def create_image(\n",
    "    sentence, \n",
    "    font_file, \n",
    "    font_size=12, \n",
    "    bg_color=\"black\", \n",
    "    fg_color=\"white\", \n",
    "    img_width=None, \n",
    "    img_height=None\n",
    "):\n",
    "    font = ImageFont.truetype(font_file, font_size)\n",
    "    w, h = font.getsize(sentence)\n",
    "    if img_width is not None:\n",
    "        w = img_width\n",
    "    if img_height is not None:\n",
    "        h = img_height\n",
    "    img = Image.new(\"1\", (w, h), color=bg_color)\n",
    "    draw = ImageDraw.Draw(img)\n",
    "    draw.text((0,0), sentence, font=font, fill=fg_color)\n",
    "    return img\n",
    "\n",
    "\n",
    "def stack_images(images, line_space=0, bg_color=\"black\"):\n",
    "    w = max(i.width for i in images)\n",
    "    h = sum(i.height for i in images) + (line_space * (len(images)-1))\n",
    "    stacked = Image.new(\"1\", (w, h), color=bg_color)\n",
    "    start = 0\n",
    "    for i, img in enumerate(images):\n",
    "        stacked.paste(img, (0, start))\n",
    "        start += img.height + line_space\n",
    "    return stacked\n",
    "\n",
    "\n",
    "def append_images(images, word_space=0, bg_color=\"black\"):\n",
    "    w = sum(i.width  for i in images) + ((len(images) - 1) * word_space)\n",
    "    h = max(i.height for i in images)\n",
    "    appended = Image.new(\"1\", (w, h), color=bg_color)\n",
    "    start = 0\n",
    "    for i, img in enumerate(images):\n",
    "        appended.paste(img, (start, 0))\n",
    "        start += img.width + word_space\n",
    "    return appended\n",
    "\n",
    "\n",
    "def add_margin(image, top=0, right=0, bottom=0, left=0, bg_color=\"black\"):\n",
    "    w = image.width + right + left\n",
    "    h = image.height + top + bottom\n",
    "    enlarged = Image.new(image.mode, (w, h), bg_color)\n",
    "    enlarged.paste(image, (left, top))\n",
    "    return enlarged\n",
    "\n",
    "\n",
    "def parsed_text(s):\n",
    "    filtered = [ch if ch.isalnum() else \" \" for ch in s]\n",
    "    s = \"\".join(filtered)\n",
    "    s = \" \".join(s.split())\n",
    "    return s.lower()\n",
    "\n",
    "\n",
    "def tokenizer(s):\n",
    "    # preserve whitespace\n",
    "    return re.split(r'(\\s+)', s)\n",
    "\n",
    "\n",
    "def doc_to_image(\n",
    "    doc, \n",
    "    font_file, \n",
    "    font_size=12,\n",
    "    bg_color=\"black\",\n",
    "    fg_color=\"white\",\n",
    "    margin=0,\n",
    "    line_space=0,\n",
    "    word_space=0,\n",
    "):\n",
    "    annotations = defaultdict(list) # token -> [(x, y, w, h), ... ]\n",
    "    doc = parsed_text(doc)\n",
    "    images = []\n",
    "    cursor_y = margin\n",
    "    for sentence in textwrap.wrap(doc):\n",
    "        cursor_x = margin\n",
    "        sentence_images = []\n",
    "        for token in tokenizer(sentence):\n",
    "            token_img = create_image(token, font_file, font_size, bg_color, fg_color)\n",
    "            annotations[token].append((cursor_x, cursor_y, token_img.width, token_img.height))\n",
    "            sentence_images.append(token_img)\n",
    "            cursor_x += token_img.width + word_space\n",
    "        appended = append_images(sentence_images, word_space, bg_color)\n",
    "        images.append(appended)\n",
    "        cursor_y += appended.height + line_space\n",
    "    x = stack_images(images, line_space, bg_color)\n",
    "    x = add_margin(x, margin, margin, margin, margin, bg_color)\n",
    "    \n",
    "    # pop whitespaces\n",
    "    for k in list(annotations.keys()):\n",
    "        if k.strip() == \"\":\n",
    "            annotations.pop(k)\n",
    "    \n",
    "    return x, annotations"
   ]
  },
  {
   "cell_type": "code",
   "execution_count": 7,
   "metadata": {
    "colab": {
     "base_uri": "https://localhost:8080/",
     "height": 302
    },
    "colab_type": "code",
    "id": "zFGOxsYAQEEk",
    "outputId": "a72e0c72-e864-46c5-d743-4d7b19bf4cb7"
   },
   "outputs": [
    {
     "data": {
      "image/png": "[encoded data removed]",
      "text/plain": [
       "<PIL.Image.Image image mode=1 size=596x285 at 0x117FBA0B8>"
      ]
     },
     "execution_count": 7,
     "metadata": {},
     "output_type": "execute_result"
    }
   ],
   "source": [
    "font_file = DATA_DIR + \"/fonts/apache/opensans/OpenSans-Regular.ttf\"\n",
    "doc = \"\"\"The Normans (Norman: Nourmands; French: Normands; Latin: Normanni) were the people who in the 10th and 11th centuries gave their name to Normandy, a region in France. They were descended from Norse (\"Norman\" comes from \"Norseman\") raiders and pirates from Denmark, Iceland and Norway who, under their leader Rollo, agreed to swear fealty to King Charles III of West Francia. Through generations of assimilation and mixing with the native Frankish and Roman-Gaulish populations, their descendants would gradually merge with the Carolingian-based cultures of West Francia. The distinct cultural and ethnic identity of the Normans emerged initially in the first half of the 10th century, and it continued to evolve over the succeeding centuries.\"\"\"\n",
    "img, ann = doc_to_image(doc, font_file, font_size=14, margin=20, line_space=5, word_space=2)\n",
    "img"
   ]
  },
  {
   "cell_type": "code",
   "execution_count": 8,
   "metadata": {
    "colab": {},
    "colab_type": "code",
    "id": "FcVGzcbaoD52"
   },
   "outputs": [],
   "source": [
    "def show_bounding_box(img, annotation, spread=0, color=\"red\"):\n",
    "    x, y, w, h = annotation\n",
    "    x -= spread\n",
    "    y -= spread\n",
    "    w += 2 * spread\n",
    "    h += 2 * spread\n",
    "    new = img.copy().convert(\"RGB\")\n",
    "    draw = ImageDraw.Draw(new)\n",
    "    draw.rectangle((x, y, x + w, y + h), outline=color)\n",
    "    return new"
   ]
  },
  {
   "cell_type": "code",
   "execution_count": 9,
   "metadata": {
    "colab": {
     "base_uri": "https://localhost:8080/",
     "height": 302
    },
    "colab_type": "code",
    "id": "4nsDzOv-okG6",
    "outputId": "aec2df0b-d13e-4ed0-d5f0-2b70a0bcbddf"
   },
   "outputs": [
    {
     "data": {
      "image/png": "[encoded data removed]",
      "text/plain": [
       "<PIL.Image.Image image mode=RGB size=596x285 at 0x118011198>"
      ]
     },
     "execution_count": 9,
     "metadata": {},
     "output_type": "execute_result"
    }
   ],
   "source": [
    "show_bounding_box(img, ann[\"roman\"][0], spread=2)"
   ]
  },
  {
   "cell_type": "markdown",
   "metadata": {
    "colab_type": "text",
    "id": "zNW46-XrMzvl"
   },
   "source": [
    "# Create Dataset"
   ]
  },
  {
   "cell_type": "code",
   "execution_count": 10,
   "metadata": {
    "colab": {
     "base_uri": "https://localhost:8080/",
     "height": 71
    },
    "colab_type": "code",
    "id": "xy3vZn0xXvLh",
    "outputId": "32bcf65f-9f57-4778-e53c-281f3308aac8"
   },
   "outputs": [
    {
     "data": {
      "text/plain": [
       "{'id': 'Beyoncé__0__0',\n",
       " 'doc': 'Beyoncé Giselle Knowles-Carter (/biːˈjɒnseɪ/ bee-YON-say) (born September 4, 1981) is an American singer, songwriter, record producer and actress. Born and raised in Houston, Texas, she performed in various singing and dancing competitions as a child, and rose to fame in the late 1990s as lead singer of R&B girl-group Destiny\\'s Child. Managed by her father, Mathew Knowles, the group became one of the world\\'s best-selling girl groups of all time. Their hiatus saw the release of Beyoncé\\'s debut album, Dangerously in Love (2003), which established her as a solo artist worldwide, earned five Grammy Awards and featured the Billboard Hot 100 number-one singles \"Crazy in Love\" and \"Baby Boy\".'}"
      ]
     },
     "execution_count": 10,
     "metadata": {},
     "output_type": "execute_result"
    }
   ],
   "source": [
    "def squad_doc_reader(fname):\n",
    "    data = [] # {id, doc}\n",
    "    index = set()\n",
    "    with open(fname) as f:\n",
    "        file_data = json.load(f)\n",
    "    for idx, item in enumerate(file_data[\"data\"]):\n",
    "        title = item[\"title\"]\n",
    "        for idy, para in enumerate(item[\"paragraphs\"]):\n",
    "            context = para[\"context\"]\n",
    "            key = f\"{title}__{idx}__{idy}\"\n",
    "            if key in index:\n",
    "                raise Exception(f\"{key} already exists\")\n",
    "            else:\n",
    "                data.append({\"id\": key, \"doc\": context})\n",
    "                index.add(key)\n",
    "    return data\n",
    "\n",
    "\n",
    "train_docs = squad_doc_reader(DATA_DIR + \"/squad/train-v2.0.json\")\n",
    "dev_docs = squad_doc_reader(DATA_DIR + \"/squad/dev-v2.0.json\")\n",
    "train_docs[0]"
   ]
  },
  {
   "cell_type": "code",
   "execution_count": 18,
   "metadata": {
    "colab": {
     "base_uri": "https://localhost:8080/",
     "height": 441,
     "referenced_widgets": [
      "1f926232ddf34cd68c0696a4c8d8f6f4",
      "cfd9b2ad8f6a4777b5eb6f1da72947d8",
      "38c9559db26b4c8baf7f63175806b547",
      "9b96620d284e455cb5a3a7aa655269e2",
      "ef3128adc67b43a6b2132d2ab236cf31",
      "c0fb3ea53472475e8a5596a3e4a4a8c6",
      "12513c05cef74bf0b280359781565072",
      "171c4fe13b3e4451a5a86f349703624d"
     ]
    },
    "colab_type": "code",
    "id": "h4pn2PUbqHqM",
    "outputId": "725a102d-c787-49b3-ca12-0057837405a3"
   },
   "outputs": [],
   "source": [
    "# save images and annotations\n",
    "def worker(item, **kw):\n",
    "    img, ann = doc_to_image(\n",
    "        doc=item[\"doc\"], \n",
    "        font_file=kw[\"font_file\"],\n",
    "        font_size=kw[\"font_size\"],\n",
    "        bg_color=kw[\"bg_color\"],\n",
    "        fg_color=kw[\"fg_color\"],\n",
    "        margin=kw[\"margin\"],\n",
    "        line_space=kw[\"line_space\"],\n",
    "        word_space=kw[\"word_space\"]\n",
    "    )\n",
    "    filename = os.path.join(kw[\"path\"], item[\"id\"])\n",
    "    img.save(filename + \".png\")\n",
    "    with open(filename + \".json\", \"w\", encoding=\"utf8\") as fp:\n",
    "        json.dump(ann, fp, indent=2, ensure_ascii=False)\n",
    "    return filename\n",
    "\n",
    "        \n",
    "def create_image_docs(docs, **worker_kw):\n",
    "    os.makedirs(worker_kw[\"path\"], exist_ok=True)\n",
    "    with ProcessPoolExecutor(max_workers=10) as executor:\n",
    "        futures_to_id = {executor.submit(worker, item, **worker_kw): item[\"id\"] for item in docs}\n",
    "        for future in tqdm(as_completed(futures_to_id), total=len(futures_to_id)):\n",
    "            doc_id = futures_to_id[future]\n",
    "            output = future.result()"
   ]
  },
  {
   "cell_type": "code",
   "execution_count": 19,
   "metadata": {
    "colab": {},
    "colab_type": "code",
    "id": "ou_tv2Bopgdr"
   },
   "outputs": [
    {
     "data": {
      "application/vnd.jupyter.widget-view+json": {
       "model_id": "4612089b994846c5a0cfa17203586bca",
       "version_major": 2,
       "version_minor": 0
      },
      "text/plain": [
       "HBox(children=(FloatProgress(value=0.0, max=19035.0), HTML(value='')))"
      ]
     },
     "metadata": {},
     "output_type": "display_data"
    },
    {
     "name": "stdout",
     "output_type": "stream",
     "text": [
      "\n"
     ]
    }
   ],
   "source": [
    "create_image_docs(\n",
    "    train_docs,\n",
    "    path=DATA_DIR + \"/v0/train/\",\n",
    "    font_file=DATA_DIR + \"/fonts/apache/opensans/OpenSans-Regular.ttf\",\n",
    "    font_size=14,\n",
    "    line_space=5,\n",
    "    word_space=2,\n",
    "    margin=20,\n",
    "    bg_color=\"black\",\n",
    "    fg_color=\"white\",\n",
    ")"
   ]
  },
  {
   "cell_type": "code",
   "execution_count": 20,
   "metadata": {},
   "outputs": [
    {
     "data": {
      "application/vnd.jupyter.widget-view+json": {
       "model_id": "f21acd9ffdc048f9a3827daa06d7ca7b",
       "version_major": 2,
       "version_minor": 0
      },
      "text/plain": [
       "HBox(children=(FloatProgress(value=0.0, max=1204.0), HTML(value='')))"
      ]
     },
     "metadata": {},
     "output_type": "display_data"
    },
    {
     "name": "stdout",
     "output_type": "stream",
     "text": [
      "\n"
     ]
    }
   ],
   "source": [
    "create_image_docs(\n",
    "    dev_docs,\n",
    "    path=DATA_DIR + \"/v0/dev/\",\n",
    "    font_file=DATA_DIR + \"/fonts/apache/opensans/OpenSans-Regular.ttf\",\n",
    "    font_size=14,\n",
    "    line_space=5,\n",
    "    word_space=2,\n",
    "    margin=20,\n",
    "    bg_color=\"black\",\n",
    "    fg_color=\"white\",\n",
    ")"
   ]
  },
  {
   "cell_type": "markdown",
   "metadata": {},
   "source": [
    "# Image Dim Equalize "
   ]
  },
  {
   "cell_type": "code",
   "execution_count": 55,
   "metadata": {},
   "outputs": [],
   "source": [
    "def expand_to_image(img, new_h, new_w, bg_color):\n",
    "    left = (new_w - img.width) // 2\n",
    "    right = (new_w - img.width) - left\n",
    "    top = (new_h - img.height) // 2\n",
    "    bottom = (new_h - img.height) - top\n",
    "    img = add_margin(img, top, right, bottom, left, bg_color)\n",
    "    return img, left, top\n",
    "\n",
    "\n",
    "def resize_dataset(path, bg_color):\n",
    "    # get max sizes\n",
    "    max_h = -float(\"inf\")\n",
    "    max_w = -float(\"inf\")\n",
    "    for filename in glob(path + \"/*.png\"):\n",
    "        im = Image.open(filename)\n",
    "        max_h = max(max_h, img.height)\n",
    "        max_w = max(max_w, img.width)\n",
    "    \n",
    "    processed = 0\n",
    "    for filename in tqdm(glob(path + \"/*.png\")):\n",
    "        im = Image.open(filename)\n",
    "        if im.height != max_h or im.width != max_w:\n",
    "            im, offset_x, offset_y = expand_to_image(im, max_h, max_w, bg_color)\n",
    "            # update image dim\n",
    "            im.save(filename)\n",
    "            # offset bounding box postions\n",
    "            with open(filename.replace(\".png\", \".json\"), encoding=\"utf8\") as fp:\n",
    "                features = json.load(fp)\n",
    "            for key, bb_list in features.items():\n",
    "                for bb in bb_list:\n",
    "                    bb[0] += offset_x\n",
    "                    bb[1] += offset_y\n",
    "            with open(filename.replace(\".png\", \".json\"), \"w\", encoding=\"utf8\") as fp:\n",
    "                json.dump(features, fp, indent=2, ensure_ascii=False)\n",
    "\n",
    "            processed += 1\n",
    "    \n",
    "    return processed"
   ]
  },
  {
   "cell_type": "code",
   "execution_count": 36,
   "metadata": {},
   "outputs": [
    {
     "data": {
      "image/png": "[encoded data removed]",
      "text/plain": [
       "<PIL.Image.Image image mode=RGB size=600x300 at 0x118DCCF98>"
      ]
     },
     "execution_count": 36,
     "metadata": {},
     "output_type": "execute_result"
    }
   ],
   "source": [
    "img, ann = doc_to_image(doc, font_file, font_size=14, margin=20, line_space=5, word_space=2)\n",
    "img, offset_x, offset_y = expand_to_image(img, 300, 600, \"black\")\n",
    "\n",
    "cursor_x, cursor_y, w, h = ann[\"roman\"][0]\n",
    "cursor_x += offset_x\n",
    "cursor_y += offset_y\n",
    "\n",
    "show_bounding_box(img, (cursor_x, cursor_y, w, h), spread=2)"
   ]
  },
  {
   "cell_type": "code",
   "execution_count": 61,
   "metadata": {},
   "outputs": [
    {
     "data": {
      "application/vnd.jupyter.widget-view+json": {
       "model_id": "abce2017a2e54cbb92f7710a6248a27b",
       "version_major": 2,
       "version_minor": 0
      },
      "text/plain": [
       "HBox(children=(FloatProgress(value=0.0, max=19035.0), HTML(value='')))"
      ]
     },
     "metadata": {},
     "output_type": "display_data"
    },
    {
     "name": "stdout",
     "output_type": "stream",
     "text": [
      "\n"
     ]
    },
    {
     "data": {
      "text/plain": [
       "19035"
      ]
     },
     "execution_count": 61,
     "metadata": {},
     "output_type": "execute_result"
    }
   ],
   "source": [
    "resize_dataset(DATA_DIR + \"/v0/train\", \"black\")"
   ]
  },
  {
   "cell_type": "code",
   "execution_count": 57,
   "metadata": {},
   "outputs": [
    {
     "data": {
      "application/vnd.jupyter.widget-view+json": {
       "model_id": "0c3a4f7537aa410092e528a976682eb9",
       "version_major": 2,
       "version_minor": 0
      },
      "text/plain": [
       "HBox(children=(FloatProgress(value=0.0, max=1204.0), HTML(value='')))"
      ]
     },
     "metadata": {},
     "output_type": "display_data"
    },
    {
     "name": "stdout",
     "output_type": "stream",
     "text": [
      "\n"
     ]
    },
    {
     "data": {
      "text/plain": [
       "1204"
      ]
     },
     "execution_count": 57,
     "metadata": {},
     "output_type": "execute_result"
    }
   ],
   "source": [
    "resize_dataset(DATA_DIR + \"/v0/dev\", \"black\")"
   ]
  },
  {
   "cell_type": "code",
   "execution_count": 58,
   "metadata": {},
   "outputs": [
    {
     "data": {
      "image/png": "[encoded data removed]",
      "text/plain": [
       "<PIL.PngImagePlugin.PngImageFile image mode=1 size=600x300 at 0x11E203978>"
      ]
     },
     "execution_count": 58,
     "metadata": {},
     "output_type": "execute_result"
    }
   ],
   "source": [
    "img = Image.open(DATA_DIR+\"/v0/dev/1973_oil_crisis__8__0.png\")\n",
    "img"
   ]
  },
  {
   "cell_type": "code",
   "execution_count": 60,
   "metadata": {},
   "outputs": [
    {
     "data": {
      "image/png": "[encoded data removed]",
      "text/plain": [
       "<PIL.Image.Image image mode=RGB size=600x300 at 0x11D62E978>"
      ]
     },
     "execution_count": 60,
     "metadata": {},
     "output_type": "execute_result"
    }
   ],
   "source": [
    "with open(DATA_DIR+\"/v0/dev/1973_oil_crisis__8__0.json\", encoding=\"utf8\") as fp:\n",
    "    dat = json.load(fp)\n",
    "\n",
    "show_bounding_box(img, dat[\"embargo\"][1], spread=2)"
   ]
  },
  {
   "cell_type": "markdown",
   "metadata": {},
   "source": [
    "# Create image and word pairs"
   ]
  },
  {
   "cell_type": "code",
   "execution_count": 64,
   "metadata": {},
   "outputs": [
    {
     "data": {
      "application/vnd.jupyter.widget-view+json": {
       "model_id": "643cdd2ccf764e93957df32f51caca1a",
       "version_major": 2,
       "version_minor": 0
      },
      "text/plain": [
       "HBox(children=(FloatProgress(value=0.0, max=19035.0), HTML(value='')))"
      ]
     },
     "metadata": {},
     "output_type": "display_data"
    },
    {
     "name": "stdout",
     "output_type": "stream",
     "text": [
      "\n",
      "79261\n"
     ]
    }
   ],
   "source": [
    "vocab = defaultdict(list) # word -> image ids\n",
    "\n",
    "for fname in tqdm(glob(DATA_DIR + \"/v0/train/*.json\")):\n",
    "    doc_id = os.path.split(fname)[-1]\n",
    "    with open(fname, encoding=\"utf8\") as fp:\n",
    "        dat = json.load(fp)\n",
    "    for word in dat:\n",
    "        vocab[word].append(doc_id)"
   ]
  },
  {
   "cell_type": "code",
   "execution_count": 70,
   "metadata": {},
   "outputs": [
    {
     "data": {
      "text/plain": [
       "count    79261.000000\n",
       "mean        18.866656\n",
       "std        216.077399\n",
       "min          1.000000\n",
       "25%          1.000000\n",
       "50%          2.000000\n",
       "75%          5.000000\n",
       "max      18841.000000\n",
       "dtype: float64"
      ]
     },
     "execution_count": 70,
     "metadata": {},
     "output_type": "execute_result"
    }
   ],
   "source": [
    "# each word appears in how many images?\n",
    "word_spread = [len(v) for v in vocab.values()]\n",
    "ser = pd.Series(word_spread)\n",
    "ser.describe()"
   ]
  },
  {
   "cell_type": "code",
   "execution_count": 86,
   "metadata": {},
   "outputs": [
    {
     "data": {
      "text/plain": [
       "[('the', 18841),\n",
       " ('of', 18193),\n",
       " ('and', 17994),\n",
       " ('in', 17289),\n",
       " ('to', 16072),\n",
       " ('a', 15276),\n",
       " ('as', 11226),\n",
       " ('by', 10179),\n",
       " ('for', 9748),\n",
       " ('with', 9585),\n",
       " ('is', 9179),\n",
       " ('was', 9006),\n",
       " ('that', 8770),\n",
       " ('s', 8385),\n",
       " ('on', 8350),\n",
       " ('from', 7877),\n",
       " ('which', 6576),\n",
       " ('it', 6147),\n",
       " ('are', 6075),\n",
       " ('an', 6068),\n",
       " ('at', 5723),\n",
       " ('or', 5616),\n",
       " ('were', 5354),\n",
       " ('be', 5057),\n",
       " ('this', 5023),\n",
       " ('also', 4824),\n",
       " ('has', 4245),\n",
       " ('not', 4214),\n",
       " ('its', 4145),\n",
       " ('have', 4127),\n",
       " ('other', 4028),\n",
       " ('their', 3945),\n",
       " ('but', 3908),\n",
       " ('one', 3728),\n",
       " ('had', 3601),\n",
       " ('such', 3524),\n",
       " ('most', 3370),\n",
       " ('first', 3289),\n",
       " ('been', 3154),\n",
       " ('more', 3120),\n",
       " ('his', 3040),\n",
       " ('some', 3031),\n",
       " ('they', 2996),\n",
       " ('all', 2951),\n",
       " ('after', 2876),\n",
       " ('new', 2819),\n",
       " ('many', 2792),\n",
       " ('during', 2749),\n",
       " ('into', 2743),\n",
       " ('who', 2631)]"
      ]
     },
     "execution_count": 86,
     "metadata": {},
     "output_type": "execute_result"
    }
   ],
   "source": [
    "# words that have highest spread\n",
    "word_counts = [(k, len(v)) for k, v in vocab.items()]\n",
    "word_counts = sorted(word_counts, key=lambda x: -x[1])\n",
    "word_counts[:50]"
   ]
  }
 ],
 "metadata": {
  "colab": {
   "collapsed_sections": [],
   "name": "Dataset - Generate.ipynb",
   "provenance": []
  },
  "kernelspec": {
   "display_name": "Python 3",
   "language": "python",
   "name": "python3"
  },
  "language_info": {
   "codemirror_mode": {
    "name": "ipython",
    "version": 3
   },
   "file_extension": ".py",
   "mimetype": "text/x-python",
   "name": "python",
   "nbconvert_exporter": "python",
   "pygments_lexer": "ipython3",
   "version": "3.7.3"
  },
  "widgets": {
   "application/vnd.jupyter.widget-state+json": {
    "state": {},
    "version_major": 2,
    "version_minor": 0
   }
  }
 },
 "nbformat": 4,
 "nbformat_minor": 4
}

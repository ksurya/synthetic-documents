{
 "cells": [
  {
   "cell_type": "markdown",
   "metadata": {
    "colab_type": "text",
    "id": "YP8Fdzev-E09"
   },
   "source": [
    "# Dataset 0\n",
    "\n",
    "Ideal settings to find baseline performance\n",
    "\n",
    "\n",
    "## Document Images\n",
    "- Documents: SQUAD v2 {train and test}\n",
    "- Document Images: fixed font {style, size, color} line space, word space, background\n",
    "\n",
    "## Train/Test Sampling\n",
    "- Triplets = [(document-content, query-word, feature-location)]\n",
    "- For each document in train/test set\n",
    "    - Split content into words by whitespace\n",
    "    - A fixed % of unique words are picked uniformly\n",
    "    - An instance of word is picked uniformly\n",
    "    - Add to triplets"
   ]
  },
  {
   "cell_type": "code",
   "execution_count": 1,
   "metadata": {
    "colab": {},
    "colab_type": "code",
    "id": "0BXALLolMQvN"
   },
   "outputs": [],
   "source": [
    "DATA_DIR = \"../data/\""
   ]
  },
  {
   "cell_type": "code",
   "execution_count": 2,
   "metadata": {
    "colab": {},
    "colab_type": "code",
    "id": "rxmlQZYT9fMS"
   },
   "outputs": [],
   "source": [
    "%matplotlib inline\n",
    "\n",
    "from PIL import Image\n",
    "from PIL import ImageDraw\n",
    "from PIL import ImageFont\n",
    "from matplotlib.pyplot import imshow\n",
    "from glob import glob\n",
    "from collections import defaultdict\n",
    "from tqdm.notebook import tqdm\n",
    "from concurrent.futures import ProcessPoolExecutor, ThreadPoolExecutor, as_completed\n",
    "\n",
    "import matplotlib.pyplot as plt\n",
    "import numpy as np\n",
    "import pandas as pd\n",
    "import string\n",
    "import textwrap\n",
    "import json\n",
    "import re\n",
    "import os"
   ]
  },
  {
   "cell_type": "markdown",
   "metadata": {
    "colab_type": "text",
    "id": "_wILpnhXYvXf"
   },
   "source": [
    "# Image Utils"
   ]
  },
  {
   "cell_type": "code",
   "execution_count": 4,
   "metadata": {},
   "outputs": [],
   "source": [
    "def show_bounding_box(img, annotation, spread=0, color=\"red\"):\n",
    "    x, y, w, h = annotation\n",
    "    x -= spread\n",
    "    y -= spread\n",
    "    w += 2 * spread\n",
    "    h += 2 * spread\n",
    "    new = img.copy().convert(\"RGB\")\n",
    "    draw = ImageDraw.Draw(new)\n",
    "    draw.rectangle((x, y, x + w, y + h), outline=color)\n",
    "    return new\n",
    "\n",
    "\n",
    "def expand_image(img, new_h, new_w, bg_color=\"black\"):\n",
    "    left = (new_w - img.width) // 2\n",
    "    right = (new_w - img.width) - left\n",
    "    top = (new_h - img.height) // 2\n",
    "    bottom = (new_h - img.height) - top\n",
    "    img = add_margin(img, top, right, bottom, left, bg_color)\n",
    "    return img, left, top\n",
    "\n",
    "\n",
    "def create_image(\n",
    "    sentence, \n",
    "    font_file, \n",
    "    font_size=12, \n",
    "    bg_color=\"black\", \n",
    "    fg_color=\"white\", \n",
    "    img_width=None, \n",
    "    img_height=None\n",
    "):\n",
    "    font = ImageFont.truetype(font_file, font_size)\n",
    "    w, h = font.getsize(sentence)\n",
    "    if img_width is not None:\n",
    "        w = img_width\n",
    "    if img_height is not None:\n",
    "        h = img_height\n",
    "    img = Image.new(\"1\", (w, h), color=bg_color)\n",
    "    draw = ImageDraw.Draw(img)\n",
    "    draw.text((0,0), sentence, font=font, fill=fg_color)\n",
    "    return img\n",
    "\n",
    "\n",
    "def stack_images(images, line_space=0, bg_color=\"black\"):\n",
    "    w = max(i.width for i in images)\n",
    "    h = sum(i.height for i in images) + (line_space * (len(images)-1))\n",
    "    stacked = Image.new(\"1\", (w, h), color=bg_color)\n",
    "    start = 0\n",
    "    for i, img in enumerate(images):\n",
    "        stacked.paste(img, (0, start))\n",
    "        start += img.height + line_space\n",
    "    return stacked\n",
    "\n",
    "\n",
    "def append_images(images, word_space=0, bg_color=\"black\"):\n",
    "    w = sum(i.width  for i in images) + ((len(images) - 1) * word_space)\n",
    "    h = max(i.height for i in images)\n",
    "    appended = Image.new(\"1\", (w, h), color=bg_color)\n",
    "    start = 0\n",
    "    for i, img in enumerate(images):\n",
    "        appended.paste(img, (start, 0))\n",
    "        start += img.width + word_space\n",
    "    return appended\n",
    "\n",
    "\n",
    "def add_margin(image, top=0, right=0, bottom=0, left=0, bg_color=\"black\"):\n",
    "    w = image.width + right + left\n",
    "    h = image.height + top + bottom\n",
    "    enlarged = Image.new(image.mode, (w, h), bg_color)\n",
    "    enlarged.paste(image, (left, top))\n",
    "    return enlarged\n",
    "\n",
    "\n",
    "def doc_to_image(\n",
    "    doc,\n",
    "    sentence_iterator,\n",
    "    word_iterator,\n",
    "    font_file, \n",
    "    font_size=12,\n",
    "    bg_color=\"black\",\n",
    "    fg_color=\"white\",\n",
    "    margin=0,\n",
    "    line_space=0,\n",
    "    word_space=0,\n",
    "    whitespace_ann=False,\n",
    "):\n",
    "    annotations = defaultdict(list) # token -> [(x, y, w, h), ... ]\n",
    "    images = []\n",
    "    cursor_y = margin\n",
    "    for sentence in sentence_iterator(doc):\n",
    "        cursor_x = margin\n",
    "        sentence_images = []\n",
    "        for token in word_iterator(sentence):\n",
    "            token_img = create_image(token, font_file, font_size, bg_color, fg_color)\n",
    "            if token.strip() or whitespace_ann:\n",
    "                annotations[token].append((cursor_x, cursor_y, token_img.width, token_img.height))\n",
    "            sentence_images.append(token_img)\n",
    "            cursor_x += token_img.width + word_space\n",
    "        appended = append_images(sentence_images, word_space, bg_color)\n",
    "        images.append(appended)\n",
    "        cursor_y += appended.height + line_space\n",
    "    x = stack_images(images, line_space, bg_color)\n",
    "    x = add_margin(x, margin, margin, margin, margin, bg_color)\n",
    "    return x, dict(annotations)"
   ]
  },
  {
   "cell_type": "markdown",
   "metadata": {},
   "source": [
    "# Document Utils"
   ]
  },
  {
   "cell_type": "code",
   "execution_count": 5,
   "metadata": {},
   "outputs": [],
   "source": [
    "def alnum_parser(s, lower):\n",
    "    # sentence -> sentence\n",
    "    # remove anything including whitespace but 0-9 and a-z, A-Z\n",
    "    # have uniform whitespace b/w words\n",
    "    filtered = [ch if ch.isalnum() else \" \" for ch in s]\n",
    "    s = \"\".join(filtered)\n",
    "    s = \" \".join(s.split())\n",
    "    if lower:\n",
    "        s = s.lower()\n",
    "    return s\n",
    "\n",
    "\n",
    "def whitespaced_split(s):\n",
    "    # sentence -> list of words\n",
    "    # preserve white space in splitting sentence\n",
    "    return re.split(r'(\\s+)', s)"
   ]
  },
  {
   "cell_type": "markdown",
   "metadata": {},
   "source": [
    "# Document Dataset Readers"
   ]
  },
  {
   "cell_type": "code",
   "execution_count": 6,
   "metadata": {},
   "outputs": [],
   "source": [
    "class SquadDocuments(object):\n",
    "    \n",
    "    def __init__(self, filename):\n",
    "        self.ds = {}\n",
    "        self.keys = []\n",
    "        with open(filename) as fp:\n",
    "            data = json.load(fp)\n",
    "        for idx, item in enumerate(data[\"data\"]):\n",
    "            title = item[\"title\"]\n",
    "            for idy, para in enumerate(item[\"paragraphs\"]):\n",
    "                context = para[\"context\"]\n",
    "                key = f\"{title}__{idx}__{idy}\"\n",
    "                self.ds[key] = context\n",
    "                self.keys.append(key)\n",
    "\n",
    "    def __len__(self):\n",
    "        return len(self.ds)\n",
    "    \n",
    "    def __getitem__(self, idx):\n",
    "        key = self.keys[idx]\n",
    "        return {\"id\": key, \"text\": self.ds[key]}"
   ]
  },
  {
   "cell_type": "markdown",
   "metadata": {},
   "source": [
    "# Generate..."
   ]
  },
  {
   "cell_type": "code",
   "execution_count": 7,
   "metadata": {},
   "outputs": [
    {
     "name": "stdout",
     "output_type": "stream",
     "text": [
      "Num of documents:  19035 1204\n"
     ]
    },
    {
     "data": {
      "text/plain": [
       "{'id': 'Beyoncé__0__0',\n",
       " 'text': 'Beyoncé Giselle Knowles-Carter (/biːˈjɒnseɪ/ bee-YON-say) (born September 4, 1981) is an American singer, songwriter, record producer and actress. Born and raised in Houston, Texas, she performed in various singing and dancing competitions as a child, and rose to fame in the late 1990s as lead singer of R&B girl-group Destiny\\'s Child. Managed by her father, Mathew Knowles, the group became one of the world\\'s best-selling girl groups of all time. Their hiatus saw the release of Beyoncé\\'s debut album, Dangerously in Love (2003), which established her as a solo artist worldwide, earned five Grammy Awards and featured the Billboard Hot 100 number-one singles \"Crazy in Love\" and \"Baby Boy\".'}"
      ]
     },
     "execution_count": 7,
     "metadata": {},
     "output_type": "execute_result"
    }
   ],
   "source": [
    "# read datasets\n",
    "train_docs = SquadDocuments(os.path.join(DATA_DIR, \"squad\", \"train-v2.0.json\"))\n",
    "dev_docs = SquadDocuments(os.path.join(DATA_DIR, \"squad\", \"dev-v2.0.json\"))\n",
    "\n",
    "print(\"Num of documents: \", len(train_docs), len(dev_docs))\n",
    "train_docs[0]"
   ]
  },
  {
   "cell_type": "code",
   "execution_count": 8,
   "metadata": {},
   "outputs": [],
   "source": [
    "# document image settings\n",
    "img_conf = dict(\n",
    "    font_file=os.path.join(DATA_DIR, \"fonts/apache/opensans/OpenSans-Regular.ttf\"),\n",
    "    font_size=14,\n",
    "    margin=20,\n",
    "    line_space=5,\n",
    "    word_space=2,\n",
    "    bg_color=\"black\",\n",
    "    fg_color=\"white\",\n",
    "    sentence_iterator=textwrap.wrap,\n",
    "    word_iterator=whitespaced_split,\n",
    ")\n",
    "\n",
    "img, ann = doc_to_image(alnum_parser(train_docs[0][\"text\"], lower=True), **img_conf)"
   ]
  },
  {
   "cell_type": "code",
   "execution_count": 9,
   "metadata": {
    "colab": {
     "base_uri": "https://localhost:8080/",
     "height": 302
    },
    "colab_type": "code",
    "id": "4nsDzOv-okG6",
    "outputId": "aec2df0b-d13e-4ed0-d5f0-2b70a0bcbddf"
   },
   "outputs": [
    {
     "data": {
      "image/png": "[encoded data removed]",
      "text/plain": [
       "<PIL.Image.Image image mode=RGB size=580x265 at 0x11BBE4FD0>"
      ]
     },
     "execution_count": 9,
     "metadata": {},
     "output_type": "execute_result"
    }
   ],
   "source": [
    "show_bounding_box(img, ann[\"texas\"][0], spread=2)"
   ]
  },
  {
   "cell_type": "code",
   "execution_count": 14,
   "metadata": {
    "colab": {
     "base_uri": "https://localhost:8080/",
     "height": 441,
     "referenced_widgets": [
      "1f926232ddf34cd68c0696a4c8d8f6f4",
      "cfd9b2ad8f6a4777b5eb6f1da72947d8",
      "38c9559db26b4c8baf7f63175806b547",
      "9b96620d284e455cb5a3a7aa655269e2",
      "ef3128adc67b43a6b2132d2ab236cf31",
      "c0fb3ea53472475e8a5596a3e4a4a8c6",
      "12513c05cef74bf0b280359781565072",
      "171c4fe13b3e4451a5a86f349703624d"
     ]
    },
    "colab_type": "code",
    "id": "h4pn2PUbqHqM",
    "outputId": "725a102d-c787-49b3-ca12-0057837405a3"
   },
   "outputs": [],
   "source": [
    "# save images and annotations\n",
    "def worker(item, outdir, img_conf):\n",
    "    img, ann = doc_to_image(alnum_parser(item[\"text\"], lower=True), **img_conf)\n",
    "    img.save(os.path.join(outdir, \"images\", item[\"id\"] + \".png\"))\n",
    "    with open(os.path.join(outdir, \"features\", item[\"id\"] + \".json\"), \"w\", encoding=\"utf8\") as fp:\n",
    "        json.dump(ann, fp, indent=2, ensure_ascii=False)\n",
    "    return filename\n",
    "\n",
    "        \n",
    "def create_image_docs(docs, outdir, max_workers, worker_kw):\n",
    "    with ProcessPoolExecutor(max_workers=max_workers) as executor:\n",
    "        futures_to_id = {executor.submit(worker, item, outdir, worker_kw): item[\"id\"] for item in docs}\n",
    "        for future in tqdm(as_completed(futures_to_id), total=len(futures_to_id)):\n",
    "            doc_id = futures_to_id[future]\n",
    "            output = future.result()"
   ]
  },
  {
   "cell_type": "code",
   "execution_count": 15,
   "metadata": {},
   "outputs": [
    {
     "data": {
      "application/vnd.jupyter.widget-view+json": {
       "model_id": "01f1bd86a1ad4f648214a01d3ea2f453",
       "version_major": 2,
       "version_minor": 0
      },
      "text/plain": [
       "HBox(children=(FloatProgress(value=0.0, max=1204.0), HTML(value='')))"
      ]
     },
     "metadata": {},
     "output_type": "display_data"
    },
    {
     "name": "stdout",
     "output_type": "stream",
     "text": [
      "\n"
     ]
    }
   ],
   "source": [
    "os.makedirs(os.path.join(DATA_DIR, \"squad/v0_dev\"), exist_ok=True)\n",
    "os.makedirs(os.path.join(DATA_DIR, \"squad/v0_dev/images\"), exist_ok=True)\n",
    "os.makedirs(os.path.join(DATA_DIR, \"squad/v0_dev/features\"), exist_ok=True)\n",
    "\n",
    "create_image_docs(\n",
    "    dev_docs,\n",
    "    outdir=os.path.join(DATA_DIR, \"squad/v0_dev/\"),\n",
    "    max_workers=10,\n",
    "    worker_kw=img_conf\n",
    ")"
   ]
  },
  {
   "cell_type": "code",
   "execution_count": 16,
   "metadata": {
    "colab": {},
    "colab_type": "code",
    "id": "ou_tv2Bopgdr"
   },
   "outputs": [
    {
     "data": {
      "application/vnd.jupyter.widget-view+json": {
       "model_id": "a104c14f3342416a8e5b384554c9b3ad",
       "version_major": 2,
       "version_minor": 0
      },
      "text/plain": [
       "HBox(children=(FloatProgress(value=0.0, max=19035.0), HTML(value='')))"
      ]
     },
     "metadata": {},
     "output_type": "display_data"
    },
    {
     "name": "stdout",
     "output_type": "stream",
     "text": [
      "\n"
     ]
    }
   ],
   "source": [
    "os.makedirs(os.path.join(DATA_DIR, \"squad/v0_train\"), exist_ok=True)\n",
    "os.makedirs(os.path.join(DATA_DIR, \"squad/v0_train/images\"), exist_ok=True)\n",
    "os.makedirs(os.path.join(DATA_DIR, \"squad/v0_train/features\"), exist_ok=True)\n",
    "\n",
    "create_image_docs(\n",
    "    train_docs,\n",
    "    outdir=os.path.join(DATA_DIR, \"squad/v0_train/\"),\n",
    "    max_workers=10,\n",
    "    worker_kw=img_conf\n",
    ")"
   ]
  },
  {
   "cell_type": "markdown",
   "metadata": {},
   "source": [
    "# Image Dim Equalize "
   ]
  },
  {
   "cell_type": "code",
   "execution_count": 19,
   "metadata": {},
   "outputs": [
    {
     "data": {
      "image/png": "[encoded data removed]",
      "text/plain": [
       "<PIL.Image.Image image mode=RGB size=600x300 at 0x121672550>"
      ]
     },
     "execution_count": 19,
     "metadata": {},
     "output_type": "execute_result"
    }
   ],
   "source": [
    "img_ex, offset_x, offset_y = expand_image(img, 300, 600, \"black\")\n",
    "\n",
    "cursor_x, cursor_y, w, h = ann[\"texas\"][0]\n",
    "cursor_x += offset_x\n",
    "cursor_y += offset_y\n",
    "\n",
    "show_bounding_box(img_ex, (cursor_x, cursor_y, w, h), spread=2)"
   ]
  },
  {
   "cell_type": "code",
   "execution_count": 52,
   "metadata": {},
   "outputs": [],
   "source": [
    "def equalize_images(image_items, feature_indent=2):\n",
    "    # image_items = [{in_image, in_features, out_image, out_features, bg_color}]\n",
    "    # get max sizes\n",
    "    max_h = -float(\"inf\")\n",
    "    max_w = -float(\"inf\")\n",
    "    for item in image_items:\n",
    "        im = Image.open(item[\"in_image\"])\n",
    "        max_h = max(max_h, im.height)\n",
    "        max_w = max(max_w, im.width)\n",
    "        \n",
    "    print(\"H: \", max_h)\n",
    "    print(\"W: \", max_w)\n",
    "    print(\"Processing: \", len(image_items))\n",
    "\n",
    "    for item in tqdm(image_items):\n",
    "        im = Image.open(item[\"in_image\"])\n",
    "        if im.height != max_h or im.width != max_w:\n",
    "            # expand image\n",
    "            im, offset_x, offset_y = expand_image(im, max_h, max_w, item[\"bg_color\"])\n",
    "            im.save(item[\"out_image\"])\n",
    "            # offset feature positions\n",
    "            with open(item[\"in_features\"], encoding=\"utf8\") as fp:\n",
    "                features = json.load(fp)\n",
    "            for key, bb_list in features.items():\n",
    "                for bb in bb_list:\n",
    "                    bb[0] += offset_x\n",
    "                    bb[1] += offset_y\n",
    "            with open(item[\"out_features\"], \"w\", encoding=\"utf8\") as fp:\n",
    "                json.dump(features, fp, indent=feature_indent, ensure_ascii=False)"
   ]
  },
  {
   "cell_type": "code",
   "execution_count": 53,
   "metadata": {},
   "outputs": [
    {
     "name": "stdout",
     "output_type": "stream",
     "text": [
      "H:  1248\n",
      "W:  636\n",
      "Processing:  19035\n"
     ]
    },
    {
     "data": {
      "application/vnd.jupyter.widget-view+json": {
       "model_id": "b4a1076d99934866bba73b5e79575f76",
       "version_major": 2,
       "version_minor": 0
      },
      "text/plain": [
       "HBox(children=(FloatProgress(value=0.0, max=19035.0), HTML(value='')))"
      ]
     },
     "metadata": {},
     "output_type": "display_data"
    },
    {
     "name": "stdout",
     "output_type": "stream",
     "text": [
      "\n"
     ]
    }
   ],
   "source": [
    "image_items = []\n",
    "features_dir = os.path.join(DATA_DIR, \"squad/v0_train/features/\")\n",
    "images_dir = os.path.join(DATA_DIR, \"squad/v0_train/images/\")\n",
    "\n",
    "out_features_dir = os.path.join(DATA_DIR, \"squad/v0_train/out_features/\")\n",
    "out_images_dir = os.path.join(DATA_DIR, \"squad/v0_train/out_images/\")\n",
    "\n",
    "os.makedirs(out_features_dir, exist_ok=True)\n",
    "os.makedirs(out_images_dir, exist_ok=True)\n",
    "\n",
    "for doc in train_docs:\n",
    "    item = {\n",
    "        \"in_image\": os.path.join(images_dir, doc[\"id\"] + \".png\"),\n",
    "        \"in_features\": os.path.join(features_dir, doc[\"id\"] + \".json\"),\n",
    "        \"out_image\": os.path.join(out_images_dir, doc[\"id\"] + \".png\"),\n",
    "        \"out_features\": os.path.join(out_features_dir, doc[\"id\"] + \".json\"),\n",
    "        \"bg_color\": \"black\",\n",
    "    }\n",
    "    image_items.append(item)\n",
    "\n",
    "equalize_images(image_items, feature_indent=2)"
   ]
  },
  {
   "cell_type": "code",
   "execution_count": 55,
   "metadata": {},
   "outputs": [
    {
     "name": "stdout",
     "output_type": "stream",
     "text": [
      "H:  1386\n",
      "W:  612\n",
      "Processing:  1204\n"
     ]
    },
    {
     "data": {
      "application/vnd.jupyter.widget-view+json": {
       "model_id": "f26448fc10cb48cd80bf156026dffe65",
       "version_major": 2,
       "version_minor": 0
      },
      "text/plain": [
       "HBox(children=(FloatProgress(value=0.0, max=1204.0), HTML(value='')))"
      ]
     },
     "metadata": {},
     "output_type": "display_data"
    },
    {
     "name": "stdout",
     "output_type": "stream",
     "text": [
      "\n"
     ]
    }
   ],
   "source": [
    "image_items = []\n",
    "features_dir = os.path.join(DATA_DIR, \"squad/v0_dev/features/\")\n",
    "images_dir = os.path.join(DATA_DIR, \"squad/v0_dev/images/\")\n",
    "\n",
    "out_features_dir = os.path.join(DATA_DIR, \"squad/v0_dev/out_features/\")\n",
    "out_images_dir = os.path.join(DATA_DIR, \"squad/v0_dev/out_images/\")\n",
    "\n",
    "os.makedirs(out_features_dir, exist_ok=True)\n",
    "os.makedirs(out_images_dir, exist_ok=True)\n",
    "\n",
    "for doc in dev_docs:\n",
    "    item = {\n",
    "        \"in_image\": os.path.join(images_dir, doc[\"id\"] + \".png\"),\n",
    "        \"in_features\": os.path.join(features_dir, doc[\"id\"] + \".json\"),\n",
    "        \"out_image\": os.path.join(out_images_dir, doc[\"id\"] + \".png\"),\n",
    "        \"out_features\": os.path.join(out_features_dir, doc[\"id\"] + \".json\"),\n",
    "        \"bg_color\": \"black\",\n",
    "    }\n",
    "    image_items.append(item)\n",
    "\n",
    "equalize_images(image_items, feature_indent=2)"
   ]
  },
  {
   "cell_type": "code",
   "execution_count": 57,
   "metadata": {},
   "outputs": [
    {
     "name": "stdout",
     "output_type": "stream",
     "text": [
      "{'id': 'European_Union_law__9__30', 'text': 'Free movement of goods within the European Union is achieved by a customs union, and the principle of non-discrimination. The EU manages imports from non-member states, duties between member states are prohibited, and imports circulate freely. In addition under the Treaty on the Functioning of the European Union article 34, ‘Quantitative restrictions on imports and all measures having equivalent effect shall be prohibited between Member States’. In Procureur du Roi v Dassonville the Court of Justice held that this rule meant all \"trading rules\" that are \"enacted by Member States\" which could hinder trade \"directly or indirectly, actually or potentially\" would be caught by article 34. This meant that a Belgian law requiring Scotch whisky imports to have a certificate of origin was unlikely to be lawful. It discriminated against parallel importers like Mr Dassonville, who could not get certificates from authorities in France, where they bought the Scotch. This \"wide test\", to determine what could potentially be an unlawful restriction on trade, applies equally to actions by quasi-government bodies, such as the former \"Buy Irish\" company that had government appointees. It also means states can be responsible for private actors. For instance, in Commission v France French farmer vigilantes were continually sabotaging shipments of Spanish strawberries, and even Belgian tomato imports. France was liable for these hindrances to trade because the authorities ‘manifestly and persistently abstained\\' from preventing the sabotage. Generally speaking, if a member state has laws or practices that directly discriminate against imports (or exports under TFEU article 35) then it must be justified under article 36. The justifications include public morality, policy or security, \"protection of health and life of humans, animals or plants\", \"national treasures\" of \"artistic, historic or archaeological value\" and \"industrial and commercial property.\" In addition, although not clearly listed, environmental protection can justify restrictions on trade as an overriding requirement derived from TFEU article 11. More generally, it has been increasingly acknowledged that fundamental human rights should take priority over all trade rules. So, in Schmidberger v Austria the Court of Justice held that Austria did not infringe article 34 by failing to ban a protest that blocked heavy traffic passing over the A13, Brenner Autobahn, en route to Italy. Although many companies, including Mr Schmidberger\\'s German undertaking, were prevented from trading, the Court of Justice reasoned that freedom of association is one of the ‘fundamental pillars of a democratic society’, against which the free movement of goods had to be balanced, and was probably subordinate. If a member state does appeal to the article 36 justification, the measures it takes have to be applied proportionately. This means the rule must be pursue a legitimate aim and (1) be suitable to achieve the aim, (2) be necessary, so that a less restrictive measure could not achieve the same result, and (3) be reasonable in balancing the interests of free trade with interests in article 36.'}\n"
     ]
    }
   ],
   "source": [
    "for doc in dev_docs:\n",
    "    im = Image.open(os.path.join(images_dir, doc[\"id\"] + \".png\"))\n",
    "    if im.height > 1000:\n",
    "        print(doc)\n",
    "        break"
   ]
  },
  {
   "cell_type": "code",
   "execution_count": 46,
   "metadata": {},
   "outputs": [
    {
     "data": {
      "image/png": "[encoded data removed]",
      "text/plain": [
       "<PIL.PngImagePlugin.PngImageFile image mode=1 size=636x1248 at 0x121D1A410>"
      ]
     },
     "execution_count": 46,
     "metadata": {},
     "output_type": "execute_result"
    }
   ],
   "source": [
    "img = Image.open(DATA_DIR + \"squad/v0_train/out_images/Age_of_Enlightenment__161__19.png\")\n",
    "with open(DATA_DIR + \"squad/v0_train/out_features/Age_of_Enlightenment__161__19.json\", encoding=\"utf8\") as fp:\n",
    "    ann = json.load(fp)\n",
    "\n",
    "img"
   ]
  },
  {
   "cell_type": "code",
   "execution_count": 47,
   "metadata": {},
   "outputs": [
    {
     "data": {
      "image/png": "[encoded data removed]",
      "text/plain": [
       "<PIL.Image.Image image mode=RGB size=636x1248 at 0x1213CEAD0>"
      ]
     },
     "execution_count": 47,
     "metadata": {},
     "output_type": "execute_result"
    }
   ],
   "source": [
    "show_bounding_box(img, ann[\"benjamin\"][0], spread=2)"
   ]
  }
 ],
 "metadata": {
  "colab": {
   "collapsed_sections": [],
   "name": "Dataset - Generate.ipynb",
   "provenance": []
  },
  "kernelspec": {
   "display_name": "Python 3",
   "language": "python",
   "name": "python3"
  },
  "language_info": {
   "codemirror_mode": {
    "name": "ipython",
    "version": 3
   },
   "file_extension": ".py",
   "mimetype": "text/x-python",
   "name": "python",
   "nbconvert_exporter": "python",
   "pygments_lexer": "ipython3",
   "version": "3.7.6"
  },
  "widgets": {
   "application/vnd.jupyter.widget-state+json": {
    "state": {},
    "version_major": 2,
    "version_minor": 0
   }
  }
 },
 "nbformat": 4,
 "nbformat_minor": 4
}

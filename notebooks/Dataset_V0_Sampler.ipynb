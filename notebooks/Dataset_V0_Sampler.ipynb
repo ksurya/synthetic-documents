{
 "cells": [
  {
   "cell_type": "code",
   "execution_count": 23,
   "metadata": {},
   "outputs": [],
   "source": [
    "%matplotlib inline\n",
    "\n",
    "from glob import glob\n",
    "from tqdm.notebook import tqdm\n",
    "\n",
    "import os\n",
    "import json\n",
    "import random\n",
    "import pandas as pd\n",
    "import numpy as np\n",
    "\n",
    "np.random.seed(1)\n",
    "random.seed(1)"
   ]
  },
  {
   "cell_type": "code",
   "execution_count": 2,
   "metadata": {},
   "outputs": [],
   "source": [
    "DATA_DIR = \"../data\""
   ]
  },
  {
   "cell_type": "code",
   "execution_count": 3,
   "metadata": {},
   "outputs": [],
   "source": [
    "class SquadDocuments(object):\n",
    "    \n",
    "    def __init__(self, filename):\n",
    "        self.ds = {}\n",
    "        self.keys = []\n",
    "        with open(filename) as fp:\n",
    "            data = json.load(fp)\n",
    "        for idx, item in enumerate(data[\"data\"]):\n",
    "            title = item[\"title\"]\n",
    "            for idy, para in enumerate(item[\"paragraphs\"]):\n",
    "                context = para[\"context\"]\n",
    "                key = f\"{title}__{idx}__{idy}\"\n",
    "                self.ds[key] = context\n",
    "                self.keys.append(key)\n",
    "\n",
    "    def __len__(self):\n",
    "        return len(self.ds)\n",
    "    \n",
    "    def __getitem__(self, idx):\n",
    "        key = self.keys[idx]\n",
    "        return {\"id\": key, \"text\": self.ds[key]}"
   ]
  },
  {
   "cell_type": "code",
   "execution_count": 20,
   "metadata": {},
   "outputs": [],
   "source": [
    "def get_features_from_doc(features_dir, doc_id):\n",
    "    fname = os.path.join(features_dir, doc_id + \".json\")\n",
    "    with open(fname, encoding=\"utf-8\") as fp:\n",
    "        features = json.load(fp)\n",
    "    return features"
   ]
  },
  {
   "cell_type": "code",
   "execution_count": 24,
   "metadata": {},
   "outputs": [
    {
     "data": {
      "application/vnd.jupyter.widget-view+json": {
       "model_id": "46a46579fe624f46b0ac4b7c4173289d",
       "version_major": 2,
       "version_minor": 0
      },
      "text/plain": [
       "HBox(children=(FloatProgress(value=0.0, max=19035.0), HTML(value='')))"
      ]
     },
     "metadata": {},
     "output_type": "display_data"
    },
    {
     "name": "stdout",
     "output_type": "stream",
     "text": [
      "\n"
     ]
    }
   ],
   "source": [
    "select_ratio = .3\n",
    "\n",
    "train_docs = SquadDocuments(os.path.join(DATA_DIR, \"squad/train-v2.0.json\"))\n",
    "train_features_dir = os.path.join(DATA_DIR, \"squad/v0_train/out_features/\")\n",
    "train_triplets = [] # (doc, word, instance)\n",
    "\n",
    "for doc in tqdm(train_docs):\n",
    "    features = get_features_from_doc(train_features_dir, doc[\"id\"])\n",
    "    words = list(features)\n",
    "    num_words = len(features)\n",
    "    num_selected = int(num_words * select_ratio)\n",
    "    for _ in range(num_selected):\n",
    "        idx = int(random.uniform(0, num_words))\n",
    "        curr_word = words[idx]\n",
    "        curr_instance = int(random.uniform(0, len(features[curr_word])))\n",
    "        train_triplets.append((doc[\"id\"], curr_word, curr_instance))"
   ]
  },
  {
   "cell_type": "code",
   "execution_count": 25,
   "metadata": {},
   "outputs": [
    {
     "data": {
      "application/vnd.jupyter.widget-view+json": {
       "model_id": "c8114bd95245465199e048a47ca8106e",
       "version_major": 2,
       "version_minor": 0
      },
      "text/plain": [
       "HBox(children=(FloatProgress(value=0.0, max=1204.0), HTML(value='')))"
      ]
     },
     "metadata": {},
     "output_type": "display_data"
    },
    {
     "name": "stdout",
     "output_type": "stream",
     "text": [
      "\n"
     ]
    }
   ],
   "source": [
    "select_ratio = .3\n",
    "\n",
    "dev_docs = SquadDocuments(os.path.join(DATA_DIR, \"squad/dev-v2.0.json\"))\n",
    "dev_features_dir = os.path.join(DATA_DIR, \"squad/v0_dev/out_features/\")\n",
    "dev_triplets = [] # (doc, word, instance)\n",
    "\n",
    "for doc in tqdm(dev_docs):\n",
    "    features = get_features_from_doc(dev_features_dir, doc[\"id\"])\n",
    "    words = list(features)\n",
    "    num_words = len(features)\n",
    "    num_selected = int(num_words * select_ratio)\n",
    "    for _ in range(num_selected):\n",
    "        idx = int(random.uniform(0, num_words))\n",
    "        curr_word = words[idx]\n",
    "        curr_instance = int(random.uniform(0, len(features[curr_word])))\n",
    "        dev_triplets.append((doc[\"id\"], curr_word, curr_instance))"
   ]
  },
  {
   "cell_type": "code",
   "execution_count": 57,
   "metadata": {},
   "outputs": [],
   "source": [
    "df=pd.DataFrame(train_triplets, columns=[\"doc\", \"word\", \"instance\"])\n",
    "df.to_csv(os.path.join(DATA_DIR, \"squad/v0_train/sample.csv\"), index=False)"
   ]
  },
  {
   "cell_type": "code",
   "execution_count": 58,
   "metadata": {},
   "outputs": [],
   "source": [
    "df=pd.DataFrame(dev_triplets, columns=[\"doc\", \"word\", \"instance\"])\n",
    "df.to_csv(os.path.join(DATA_DIR, \"squad/v0_dev/sample.csv\"), index=False)"
   ]
  }
 ],
 "metadata": {
  "kernelspec": {
   "display_name": "Python 3",
   "language": "python",
   "name": "python3"
  },
  "language_info": {
   "codemirror_mode": {
    "name": "ipython",
    "version": 3
   },
   "file_extension": ".py",
   "mimetype": "text/x-python",
   "name": "python",
   "nbconvert_exporter": "python",
   "pygments_lexer": "ipython3",
   "version": "3.7.6"
  }
 },
 "nbformat": 4,
 "nbformat_minor": 4
}

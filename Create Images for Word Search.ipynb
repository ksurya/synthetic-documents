{
 "cells": [
  {
   "cell_type": "code",
   "execution_count": 74,
   "metadata": {},
   "outputs": [],
   "source": [
    "from PIL import Image\n",
    "from PIL import ImageDraw\n",
    "from PIL import ImageFont\n",
    "from matplotlib.pyplot import imshow\n",
    "from glob import glob\n",
    "import string\n",
    "import textwrap"
   ]
  },
  {
   "cell_type": "code",
   "execution_count": 36,
   "metadata": {
    "scrolled": false
   },
   "outputs": [
    {
     "name": "stdout",
     "output_type": "stream",
     "text": [
      "FreeMonoBoldOblique.ttf  FreeSansBoldOblique.ttf  FreeSerifBoldItalic.ttf\n",
      "FreeMonoBold.ttf\t FreeSansBold.ttf\t  FreeSerifBold.ttf\n",
      "FreeMonoOblique.ttf\t FreeSansOblique.ttf\t  FreeSerifItalic.ttf\n",
      "FreeMono.ttf\t\t FreeSans.ttf\t\t  FreeSerif.ttf\n",
      "/usr/share/fonts/truetype/freefont/FreeSans.ttf\n",
      "Akronim-Regular.ttf  DESCRIPTION.en_us.html  METADATA.pb  OFL.txt\n"
     ]
    }
   ],
   "source": [
    "# ubuntu fonts\n",
    "!ls /usr/share/fonts/truetype/freefont\n",
    "!ls /usr/share/fonts/truetype/freefont/FreeSans.ttf\n",
    "!ls google-fonts/ofl/akronim/Akronim-Regular.ttf"
   ]
  },
  {
   "cell_type": "code",
   "execution_count": 95,
   "metadata": {},
   "outputs": [
    {
     "data": {
      "image/png": "[encoded data removed]",
      "text/plain": [
       "<PIL.Image.Image image mode=1 size=150x16 at 0x7FCF71895320>"
      ]
     },
     "execution_count": 95,
     "metadata": {},
     "output_type": "execute_result"
    },
    {
     "data": {
      "image/png": "[encoded data removed]",
      "text/plain": [
       "<Figure size 432x288 with 1 Axes>"
      ]
     },
     "metadata": {
      "needs_background": "light"
     },
     "output_type": "display_data"
    }
   ],
   "source": [
    "def create_image(\n",
    "    sentence, \n",
    "    font_file, \n",
    "    font_size=12, \n",
    "    bg_color=\"black\", \n",
    "    fg_color=\"white\", \n",
    "    img_width=None, \n",
    "    img_height=None\n",
    "):\n",
    "    font = ImageFont.truetype(font_file, font_size)\n",
    "    w, h = font.getsize(sentence)\n",
    "    if img_width is not None:\n",
    "        w = img_width\n",
    "    if img_height is not None:\n",
    "        h = img_height\n",
    "    img = Image.new(\"1\", (w, h), color=bg_color)\n",
    "    draw = ImageDraw.Draw(img)\n",
    "    draw.text((0,0), sentence, font=font, fill=fg_color)\n",
    "    return img\n",
    "\n",
    "img = create_image(\n",
    "    sentence=\"hey, how are you?\",\n",
    "    font_file=\"google-fonts/ofl/oxygen/Oxygen-Bold.ttf\",\n",
    "    img_width=150\n",
    ")\n",
    "\n",
    "imshow(img)\n",
    "img"
   ]
  },
  {
   "cell_type": "code",
   "execution_count": 147,
   "metadata": {},
   "outputs": [
    {
     "data": {
      "image/png": "[encoded data removed]",
      "text/plain": [
       "<PIL.Image.Image image mode=1 size=150x48 at 0x7FCF7164EC50>"
      ]
     },
     "execution_count": 147,
     "metadata": {},
     "output_type": "execute_result"
    },
    {
     "data": {
      "image/png": "[encoded data removed]",
      "text/plain": [
       "<Figure size 432x288 with 1 Axes>"
      ]
     },
     "metadata": {
      "needs_background": "light"
     },
     "output_type": "display_data"
    }
   ],
   "source": [
    "def stack_images(images, margin=0, y_gap=0, bg_color=\"black\"):\n",
    "    w = max(i.width for i in images) + (2 * margin)\n",
    "    h = sum(i.height + y_gap for i in images) + (2 * margin)\n",
    "    stacked = Image.new(\"1\", (w, h), color=bg_color)\n",
    "    for i, img in enumerate(images):\n",
    "        stacked.paste(img, (margin, margin + (img.height + y_gap) * i))\n",
    "    return stacked\n",
    "\n",
    "\n",
    "x = stack_images([img,img,img])\n",
    "imshow(x)\n",
    "x"
   ]
  },
  {
   "cell_type": "code",
   "execution_count": 148,
   "metadata": {},
   "outputs": [
    {
     "data": {
      "image/png": "[encoded data removed]",
      "text/plain": [
       "<PIL.Image.Image image mode=1 size=450x16 at 0x7FCF71917748>"
      ]
     },
     "execution_count": 148,
     "metadata": {},
     "output_type": "execute_result"
    },
    {
     "data": {
      "image/png": "[encoded data removed]",
      "text/plain": [
       "<Figure size 432x288 with 1 Axes>"
      ]
     },
     "metadata": {
      "needs_background": "light"
     },
     "output_type": "display_data"
    }
   ],
   "source": [
    "def append_images(images, margin=0, x_gap=0, bg_color=\"black\"):\n",
    "    w = sum(i.width + x_gap for i in images) + (2 * margin)\n",
    "    h = max(i.height for i in images) + (2 * margin)\n",
    "    appended = Image.new(\"1\", (w, h), color=bg_color)\n",
    "    for i, img in enumerate(images):\n",
    "        appended.paste(img, (margin + (img.width + x_gap) * i, margin))\n",
    "    return appended\n",
    "\n",
    "x = append_images([img,img,img], margin=0)\n",
    "imshow(x)\n",
    "x"
   ]
  },
  {
   "cell_type": "code",
   "execution_count": 87,
   "metadata": {},
   "outputs": [],
   "source": [
    "DOC = \"\"\"The Normans (Norman: Nourmands; French: Normands; Latin: Normanni) were the people who in the 10th and 11th centuries gave their name to Normandy, a region in France. They were descended from Norse (\"Norman\" comes from \"Norseman\") raiders and pirates from Denmark, Iceland and Norway who, under their leader Rollo, agreed to swear fealty to King Charles III of West Francia. Through generations of assimilation and mixing with the native Frankish and Roman-Gaulish populations, their descendants would gradually merge with the Carolingian-based cultures of West Francia. The distinct cultural and ethnic identity of the Normans emerged initially in the first half of the 10th century, and it continued to evolve over the succeeding centuries.\"\"\""
   ]
  },
  {
   "cell_type": "code",
   "execution_count": 88,
   "metadata": {},
   "outputs": [
    {
     "data": {
      "text/plain": [
       "['The Normans (Norman: Nourmands; French: Normands; Latin: Normanni)',\n",
       " 'were the people who in the 10th and 11th centuries gave their name to',\n",
       " 'Normandy, a region in France. They were descended from Norse (\"Norman\"',\n",
       " 'comes from \"Norseman\") raiders and pirates from Denmark, Iceland and',\n",
       " 'Norway who, under their leader Rollo, agreed to swear fealty to King',\n",
       " 'Charles III of West Francia. Through generations of assimilation and',\n",
       " 'mixing with the native Frankish and Roman-Gaulish populations, their',\n",
       " 'descendants would gradually merge with the Carolingian-based cultures',\n",
       " 'of West Francia. The distinct cultural and ethnic identity of the',\n",
       " 'Normans emerged initially in the first half of the 10th century, and',\n",
       " 'it continued to evolve over the succeeding centuries.']"
      ]
     },
     "execution_count": 88,
     "metadata": {},
     "output_type": "execute_result"
    }
   ],
   "source": [
    "textwrap.wrap(DOC) # width is optional"
   ]
  },
  {
   "cell_type": "code",
   "execution_count": 125,
   "metadata": {},
   "outputs": [
    {
     "data": {
      "image/png": "[encoded data removed]",
      "text/plain": [
       "<PIL.Image.Image image mode=1 size=426x197 at 0x7FCF718A1470>"
      ]
     },
     "execution_count": 125,
     "metadata": {},
     "output_type": "execute_result"
    }
   ],
   "source": [
    "def doc_to_image(doc, font_file, font_size=12, line_gap=2):\n",
    "    sentences = textwrap.wrap(doc)\n",
    "    images = [create_image(s, font_file, font_size) for s in sentences]\n",
    "    stacked = stack_images(images, line_gap)\n",
    "    return stacked\n",
    "    \n",
    "doc_to_image(DOC, \"google-fonts/ofl/oxygen/Oxygen-Bold.ttf\", 12, 2)"
   ]
  }
 ],
 "metadata": {
  "kernelspec": {
   "display_name": "Python 3",
   "language": "python",
   "name": "python3"
  },
  "language_info": {
   "codemirror_mode": {
    "name": "ipython",
    "version": 3
   },
   "file_extension": ".py",
   "mimetype": "text/x-python",
   "name": "python",
   "nbconvert_exporter": "python",
   "pygments_lexer": "ipython3",
   "version": "3.7.3"
  }
 },
 "nbformat": 4,
 "nbformat_minor": 2
}
